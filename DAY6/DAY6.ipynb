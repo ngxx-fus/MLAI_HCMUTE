{
 "cells": [
  {
   "cell_type": "code",
   "execution_count": 4,
   "metadata": {},
   "outputs": [
    {
     "name": "stdout",
     "output_type": "stream",
     "text": [
      "Tom is doing sth else!\n"
     ]
    }
   ],
   "source": [
    "# method 1\n",
    "time = input(\"Enter the time to check activities of TOM: \")\n",
    "if( time == 5):\n",
    "    print(\"TOM is waking up!\")\n",
    "else:\n",
    "    if( time == 6):\n",
    "        print(\"TOM is getting YOGA!\")\n",
    "    else:\n",
    "        if( time == 7):\n",
    "            print(\"Tom is working!\")\n",
    "        else:\n",
    "            print(\"Tom is doing sth else!\")\n"
   ]
  },
  {
   "cell_type": "code",
   "execution_count": 7,
   "metadata": {},
   "outputs": [
    {
     "data": {
      "text/plain": [
       "'Tom is working!'"
      ]
     },
     "execution_count": 7,
     "metadata": {},
     "output_type": "execute_result"
    }
   ],
   "source": [
    "# method 2\n",
    "time = input(\"Enter the time to check activities of TOM: \")\n",
    "my_dict = { \"5\":\"TOM is waking up!\", \n",
    "            \"6\":\"TOM is getting YOGA!\",\n",
    "            \"7\":\"Tom is working!\"}\n",
    "my_dict.get(time, \"Tom is doing sth else!\")\n"
   ]
  },
  {
   "cell_type": "code",
   "execution_count": 12,
   "metadata": {},
   "outputs": [
    {
     "name": "stdout",
     "output_type": "stream",
     "text": [
      "TOM is getting YOGA!\n"
     ]
    }
   ],
   "source": [
    "# method 3\n",
    "time = input(\"Enter the time to check activities of TOM: \")\n",
    "match time:\n",
    "    case \"5\": \n",
    "        print(\"TOM is waking up!\")\n",
    "    case \"6\": \n",
    "        print(\"TOM is getting YOGA!\")\n",
    "    case \"7\":\n",
    "        print(\"Tom is working!\")\n",
    "    case _:\n",
    "        print(\"Tom is doing sth else!\")\n"
   ]
  }
 ],
 "metadata": {
  "kernelspec": {
   "display_name": "local_env",
   "language": "python",
   "name": "python3"
  },
  "language_info": {
   "codemirror_mode": {
    "name": "ipython",
    "version": 3
   },
   "file_extension": ".py",
   "mimetype": "text/x-python",
   "name": "python",
   "nbconvert_exporter": "python",
   "pygments_lexer": "ipython3",
   "version": "3.12.2"
  }
 },
 "nbformat": 4,
 "nbformat_minor": 2
}
