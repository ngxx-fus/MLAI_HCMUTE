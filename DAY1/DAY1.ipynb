{
 "cells": [
  {
   "cell_type": "code",
   "execution_count": null,
   "metadata": {},
   "outputs": [],
   "source": [
    "pip install numpy"
   ]
  },
  {
   "cell_type": "code",
   "execution_count": null,
   "metadata": {},
   "outputs": [],
   "source": [
    "pip install PILLOW"
   ]
  },
  {
   "cell_type": "code",
   "execution_count": 2,
   "metadata": {},
   "outputs": [],
   "source": [
    "import numpy as np"
   ]
  },
  {
   "cell_type": "code",
   "execution_count": 1,
   "metadata": {},
   "outputs": [],
   "source": [
    "def can_chi_caculator( year ):\n",
    "    result = ''\n",
    "    # CAN\n",
    "    if( year % 10 == 0 ): result += \"Canh\"\n",
    "    if( year % 10 == 1 ): result += \"Tan\" \n",
    "    if( year % 10 == 2 ): result += \"Nham\" \n",
    "    if( year % 10 == 3 ): result += \"Quy\" \n",
    "    if( year % 10 == 4 ): result += \"Giap\" \n",
    "    if( year % 10 == 5 ): result += \"At\"\n",
    "    if( year % 10 == 6 ): result += \"Binh\"\n",
    "    if( year % 10 == 7 ): result += \"Dinh\" \n",
    "    if( year % 10 == 8 ): result += \"Mau\" \n",
    "    if( year % 10 == 9 ): result += \"Ky\"\n",
    "    # CHI\n",
    "    \n",
    "    if( year % 12 == 0 ): result += \" Than\"\n",
    "    if( year % 12 == 1 ): result += \" Dau\"\n",
    "    if( year % 12 == 2 ): result += \" Tuat\"\n",
    "    if( year % 12 == 3 ): result += \" Hoi\"\n",
    "    if( year % 12 == 4 ): result += \" Ty\"\n",
    "    if( year % 12 == 5 ): result += \" Suu\"\n",
    "    if( year % 12 == 6 ): result += \" Dan\"\n",
    "    if( year % 12 == 7 ): result += \" Meo\"\n",
    "    if( year % 12 == 8 ): result += \" Thin\"\n",
    "    if( year % 12 == 9 ): result += \" Ty\"\n",
    "    if( year % 12 == 10 ): result += \" Ngo\"\n",
    "    if( year % 12 == 11 ): result += \" Mui\"\n",
    "    # result += CAN[ year%10 ] + ' ' + CHI[ year%12 ]\n",
    "    return result"
   ]
  },
  {
   "cell_type": "code",
   "execution_count": 3,
   "metadata": {},
   "outputs": [
    {
     "name": "stdout",
     "output_type": "stream",
     "text": [
      "Giap Thin\n",
      "Quy Meo\n",
      "At Dau\n",
      "Giap Than\n",
      "Dinh Suu\n"
     ]
    }
   ],
   "source": [
    "print( can_chi_caculator( 2024 ) )\n",
    "print( can_chi_caculator( 2023 ) )\n",
    "print( can_chi_caculator( 2005 ) )\n",
    "print( can_chi_caculator( 2004 ) )\n",
    "print( can_chi_caculator( 1997 ) )\n"
   ]
  },
  {
   "cell_type": "code",
   "execution_count": null,
   "metadata": {},
   "outputs": [],
   "source": []
  },
  {
   "cell_type": "code",
   "execution_count": null,
   "metadata": {},
   "outputs": [],
   "source": []
  }
 ],
 "metadata": {
  "kernelspec": {
   "display_name": "Python 3 (ipykernel)",
   "language": "python",
   "name": "python3"
  },
  "language_info": {
   "codemirror_mode": {
    "name": "ipython",
    "version": 3
   },
   "file_extension": ".py",
   "mimetype": "text/x-python",
   "name": "python",
   "nbconvert_exporter": "python",
   "pygments_lexer": "ipython3",
   "version": "3.12.2"
  }
 },
 "nbformat": 4,
 "nbformat_minor": 4
}
