{
 "cells": [
  {
   "cell_type": "code",
   "execution_count": null,
   "metadata": {},
   "outputs": [],
   "source": [
    "# For google colab\n",
    "# %pip install torch\n",
    "# %pip install numpy\n",
    "# %pip install tensorflow"
   ]
  },
  {
   "cell_type": "code",
   "execution_count": null,
   "metadata": {},
   "outputs": [],
   "source": [
    "import numpy as np\n",
    "import torch.nn as nn\n",
    "import torch.nn.functional as F\n",
    "import tensorflow as tf"
   ]
  },
  {
   "cell_type": "code",
   "execution_count": 2,
   "metadata": {},
   "outputs": [],
   "source": [
    "_1D = [1,0.5, 3, 4, 9, 12, 0, 1, 4, 8, 3]\n",
    "_2D = [\n",
    "    [1,0.54, 3, 4, 9, 12, 0, 1, 4, 8, 3],\n",
    "    [1,0.5, 7, 9, 9, 4, 0, 1, 4, 8, 3],\n",
    "    [18,0.34, 3, 8, 9, 8, 0, 1, 2, 5, 3],\n",
    "    [1,0.5, 3, 6, 9, 9, 0, 1, 4, 5, 3],\n",
    "    [1,0.12, 7, 5, 9, 12, 0, 1, 4, 5, 6],\n",
    "    [14,0.5, 7, 9, 9, 23, 0, 1, 4, 8, 6],\n",
    "    [1,0.22, 7, 7, 9, 1, 0, 1, 5, 8, 3],\n",
    "    [1,0.5, 3, 5, 9, 2, 0, 1, 4, 8, 36],\n",
    "    [1,0.77, 3, 3, 9, 7, 0, 1, 4, 8, 3]\n",
    "]"
   ]
  },
  {
   "cell_type": "code",
   "execution_count": null,
   "metadata": {},
   "outputs": [],
   "source": [
    "numpy_arr = np.array(_1D)\n",
    "torch_tensor = torch.tensor(_1D)\n",
    "tensorflow_tensor = tf.tensor(_1D)"
   ]
  }
 ],
 "metadata": {
  "kernelspec": {
   "display_name": "python3dot8",
   "language": "python",
   "name": "python3"
  },
  "language_info": {
   "codemirror_mode": {
    "name": "ipython",
    "version": 3
   },
   "file_extension": ".py",
   "mimetype": "text/x-python",
   "name": "python",
   "nbconvert_exporter": "python",
   "pygments_lexer": "ipython3",
   "version": "3.8.3"
  }
 },
 "nbformat": 4,
 "nbformat_minor": 2
}
