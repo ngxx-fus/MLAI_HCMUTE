{
 "cells": [
  {
   "cell_type": "code",
   "execution_count": 1,
   "metadata": {},
   "outputs": [],
   "source": [
    "import math"
   ]
  },
  {
   "cell_type": "code",
   "execution_count": 2,
   "metadata": {},
   "outputs": [
    {
     "name": "stdout",
     "output_type": "stream",
     "text": [
      "Given sequence:\n",
      " [4, 3, 5, 7, 8, 9, 5, 6, 4, 3, 2, 6, 7, 3, 1, 2]\n",
      "Sorted sequence:\n",
      " [1, 2, 2, 3, 3, 3, 4, 4, 5, 5, 6, 6, 7, 7, 8, 9]\n"
     ]
    }
   ],
   "source": [
    "X = [4,3,5,7,8,9,5,6,4,3,2,6,7,3,1,2]\n",
    "print(\"Given sequence:\\n\", X)\n",
    "X.sort()\n",
    "print(\"Sorted sequence:\\n\", X)"
   ]
  },
  {
   "cell_type": "code",
   "execution_count": 3,
   "metadata": {},
   "outputs": [
    {
     "name": "stdout",
     "output_type": "stream",
     "text": [
      "Median:  4.5\n"
     ]
    }
   ],
   "source": [
    "median = 0.0\n",
    "if( len(X)%2 == 0):\n",
    "    median = X[math.floor(len(X)/2)-1] + X[math.floor(len(X)/2)]\n",
    "    median = median/2.0\n",
    "else:\n",
    "    median = X[math.floor(len(X)/2)]\n",
    "print(\"Median: \", median)"
   ]
  },
  {
   "cell_type": "code",
   "execution_count": 4,
   "metadata": {},
   "outputs": [
    {
     "name": "stdout",
     "output_type": "stream",
     "text": [
      "[8, 6, 6, 4, 4, 2, 2]\n"
     ]
    }
   ],
   "source": [
    "lst_odd_filter = list(x for x in X if(x%2==0))\n",
    "lst_odd_filter.sort(reverse=True)\n",
    "print(lst_odd_filter)"
   ]
  }
 ],
 "metadata": {
  "kernelspec": {
   "display_name": "local_env",
   "language": "python",
   "name": "python3"
  },
  "language_info": {
   "codemirror_mode": {
    "name": "ipython",
    "version": 3
   },
   "file_extension": ".py",
   "mimetype": "text/x-python",
   "name": "python",
   "nbconvert_exporter": "python",
   "pygments_lexer": "ipython3",
   "version": "3.12.2"
  }
 },
 "nbformat": 4,
 "nbformat_minor": 2
}
