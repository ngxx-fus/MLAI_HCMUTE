{
 "cells": [
  {
   "cell_type": "code",
   "execution_count": 18,
   "metadata": {},
   "outputs": [],
   "source": [
    "import cmath\n",
    "import math"
   ]
  },
  {
   "cell_type": "code",
   "execution_count": 19,
   "metadata": {},
   "outputs": [],
   "source": [
    "def quadractic_equation(a, b, c):\n",
    "    delta = b*b-4*a*c\n",
    "    if( a == 0):\n",
    "        return (-c/b)\n",
    "    if( delta == 0) :\n",
    "        return (-b/(2*a))\n",
    "    if( delta > 0 ):\n",
    "        x1 = (-b+math.sqrt(delta))/(2.0*a)\n",
    "        x2 = (-b-math.sqrt(delta))/(2.0*a)\n",
    "        return (x1, x2)\n",
    "    x1 = (-b+cmath.sqrt(delta))/(2.0*a)\n",
    "    x2 = (-b-cmath.sqrt(delta))/(2.0*a)\n",
    "    return (x1, x2)\n"
   ]
  },
  {
   "cell_type": "code",
   "execution_count": 20,
   "metadata": {},
   "outputs": [
    {
     "name": "stdout",
     "output_type": "stream",
     "text": [
      "((-0.05555555555555555+0.32867109906108977j), (-0.05555555555555555-0.32867109906108977j))\n",
      "(-0.2823756961276789, 0.39348680723879)\n",
      "-2.0\n",
      "-0.125\n"
     ]
    }
   ],
   "source": [
    "print( quadractic_equation(9,1,1) )\n",
    "print( quadractic_equation(-9,1,1) )\n",
    "print( quadractic_equation(1,4,4) )\n",
    "print( quadractic_equation(0,8,1) )"
   ]
  }
 ],
 "metadata": {
  "kernelspec": {
   "display_name": "day2_env",
   "language": "python",
   "name": "python3"
  },
  "language_info": {
   "codemirror_mode": {
    "name": "ipython",
    "version": 3
   },
   "file_extension": ".py",
   "mimetype": "text/x-python",
   "name": "python",
   "nbconvert_exporter": "python",
   "pygments_lexer": "ipython3",
   "version": "3.12.2"
  }
 },
 "nbformat": 4,
 "nbformat_minor": 2
}
