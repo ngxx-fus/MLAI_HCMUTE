{
 "cells": [
  {
   "cell_type": "code",
   "execution_count": 2,
   "metadata": {},
   "outputs": [
    {
     "name": "stdout",
     "output_type": "stream",
     "text": [
      "Hello {name}!\n"
     ]
    }
   ],
   "source": [
    "name = \"ngxx.fus\"\n",
    "print(\"Hello {name}!\")"
   ]
  },
  {
   "cell_type": "code",
   "execution_count": 3,
   "metadata": {},
   "outputs": [
    {
     "name": "stdout",
     "output_type": "stream",
     "text": [
      "Ngxx.Fus Is Stand For Nguyen Phu\n",
      "ngxx.fus is stand for nguyen phu\n",
      "NGXX.FUS IS STAND FOR NGUYEN PHU\n"
     ]
    }
   ],
   "source": [
    "text = \"ngxx.fus is stand for Nguyen Phu\"\n",
    "print(text.title())\n",
    "print(text.lower())\n",
    "print(text.upper())"
   ]
  }
 ],
 "metadata": {
  "kernelspec": {
   "display_name": "local_env",
   "language": "python",
   "name": "python3"
  },
  "language_info": {
   "codemirror_mode": {
    "name": "ipython",
    "version": 3
   },
   "file_extension": ".py",
   "mimetype": "text/x-python",
   "name": "python",
   "nbconvert_exporter": "python",
   "pygments_lexer": "ipython3",
   "version": "3.12.2"
  }
 },
 "nbformat": 4,
 "nbformat_minor": 2
}
