{
 "cells": [
  {
   "cell_type": "code",
   "execution_count": 7,
   "metadata": {},
   "outputs": [],
   "source": [
    "shopping_list = [\"Cà rốt\", \"Táo\", \"Sữa\"]"
   ]
  },
  {
   "cell_type": "code",
   "execution_count": 10,
   "metadata": {},
   "outputs": [
    {
     "name": "stdout",
     "output_type": "stream",
     "text": [
      "Shopping list:\n",
      "1 : Cà rốt\n",
      "2 : Táo\n",
      "3 : Sữa\n"
     ]
    }
   ],
   "source": [
    "#Method 1\n",
    "print(\"Shopping list:\")\n",
    "for i in range(len(shopping_list)):\n",
    "    print(\"{} : {}\".format(i+1, shopping_list[i]))"
   ]
  },
  {
   "cell_type": "code",
   "execution_count": 12,
   "metadata": {},
   "outputs": [
    {
     "name": "stdout",
     "output_type": "stream",
     "text": [
      "Shopping list:\n",
      "1 : Cà rốt\n",
      "2 : Táo\n",
      "3 : Sữa\n"
     ]
    }
   ],
   "source": [
    "#Method 2\n",
    "print(\"Shopping list:\")\n",
    "for index, item in enumerate(shopping_list, start=1):\n",
    "    print(f\"{index} : {item}\")"
   ]
  },
  {
   "cell_type": "code",
   "execution_count": 15,
   "metadata": {},
   "outputs": [],
   "source": [
    "food_list = [\n",
    "    [\"Bơ\", \"Pizza\", \"Sữa\"],\n",
    "    [\"Xúc xích\", \"Táo\", \"Kem\"],\n",
    "    [\"Cà rốt\", \"Bánh dâu\", \"Cup cake\"]\n",
    "]\n",
    "search_list = [\"Cà rốt\", \"Táo\", \"Sữa\"]"
   ]
  },
  {
   "cell_type": "code",
   "execution_count": 27,
   "metadata": {},
   "outputs": [
    {
     "name": "stdout",
     "output_type": "stream",
     "text": [
      "\"Sữa\" at row 3 and column 1\n",
      "\"Táo\" at row 2 and column 2\n",
      "\"Cà rốt\" at row 1 and column 3\n"
     ]
    }
   ],
   "source": [
    "#Method 1\n",
    "for col in range(len(food_list)):\n",
    "\n",
    "    for row in range(len(food_list[col])):\n",
    "        if( food_list[col][row] == search_list[0] ):\n",
    "            print(f\"\\\"{search_list[0]}\\\" at row {row+1} and column {col+1}\")\n",
    "        if( food_list[col][row] == search_list[1] ):\n",
    "            print(f\"\\\"{search_list[1]}\\\" at row {row+1} and column {col+1}\")\n",
    "        if( food_list[col][row] == search_list[2] ):\n",
    "            print(f\"\\\"{search_list[2]}\\\" at row {row+1} and column {col+1}\")"
   ]
  },
  {
   "cell_type": "code",
   "execution_count": 28,
   "metadata": {},
   "outputs": [
    {
     "name": "stdout",
     "output_type": "stream",
     "text": [
      "\"Sữa\" at row 3 and column 1\n",
      "\"Táo\" at row 2 and column 2\n",
      "\"Cà rốt\" at row 1 and column 3\n"
     ]
    }
   ],
   "source": [
    "#Method 1\n",
    "for col, col_item in enumerate(food_list, start=1):\n",
    "\n",
    "    for row, item in enumerate(col_item, start=1):\n",
    "        if( item == search_list[0] ):\n",
    "            print(f\"\\\"{search_list[0]}\\\" at row {row} and column {col}\")\n",
    "        if( item == search_list[1] ):\n",
    "            print(f\"\\\"{search_list[1]}\\\" at row {row} and column {col}\")\n",
    "        if( item == search_list[2] ):\n",
    "            print(f\"\\\"{search_list[2]}\\\" at row {row} and column {col}\")"
   ]
  }
 ],
 "metadata": {
  "kernelspec": {
   "display_name": "local_env",
   "language": "python",
   "name": "python3"
  },
  "language_info": {
   "codemirror_mode": {
    "name": "ipython",
    "version": 3
   },
   "file_extension": ".py",
   "mimetype": "text/x-python",
   "name": "python",
   "nbconvert_exporter": "python",
   "pygments_lexer": "ipython3",
   "version": "3.12.2"
  }
 },
 "nbformat": 4,
 "nbformat_minor": 2
}
